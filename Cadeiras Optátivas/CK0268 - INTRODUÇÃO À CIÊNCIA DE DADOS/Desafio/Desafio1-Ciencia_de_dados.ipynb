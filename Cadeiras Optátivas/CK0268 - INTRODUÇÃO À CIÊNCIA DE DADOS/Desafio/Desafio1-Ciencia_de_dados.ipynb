{
 "cells": [
  {
   "cell_type": "markdown",
   "id": "09463a11",
   "metadata": {},
   "source": [
    "## Módulo 1: Extração de Dados"
   ]
  },
  {
   "cell_type": "markdown",
   "id": "876a5031",
   "metadata": {},
   "source": [
    "## Aula 2 - Acessando Bancos de Dados Relacionais com o SQLite3"
   ]
  },
  {
   "cell_type": "markdown",
   "id": "02d87044",
   "metadata": {},
   "source": [
    "## Importando as seguintes Bibliotecas"
   ]
  },
  {
   "cell_type": "code",
   "execution_count": 9,
   "id": "6223d91c",
   "metadata": {},
   "outputs": [],
   "source": [
    "import numpy as np\n",
    "import pandas as pd\n",
    "import sqlite3"
   ]
  },
  {
   "cell_type": "markdown",
   "id": "1833a149",
   "metadata": {},
   "source": [
    "## Conectando com o SQLite3"
   ]
  },
  {
   "cell_type": "code",
   "execution_count": 10,
   "id": "727121fb",
   "metadata": {},
   "outputs": [
    {
     "data": {
      "text/plain": [
       "<sqlite3.Connection at 0x2a445243210>"
      ]
     },
     "execution_count": 10,
     "metadata": {},
     "output_type": "execute_result"
    }
   ],
   "source": [
    "conn = sqlite3.connect('sefaz.db')\n",
    "conn"
   ]
  },
  {
   "cell_type": "markdown",
   "id": "51be2c50",
   "metadata": {},
   "source": [
    "## Criando o Cursor"
   ]
  },
  {
   "cell_type": "code",
   "execution_count": 14,
   "id": "034c6103",
   "metadata": {},
   "outputs": [],
   "source": [
    "cursor = conn.cursor()"
   ]
  },
  {
   "cell_type": "markdown",
   "id": "297341ce",
   "metadata": {},
   "source": [
    "## Criando o Banco de Dados em SQLite"
   ]
  },
  {
   "cell_type": "code",
   "execution_count": 16,
   "id": "87d3485e",
   "metadata": {},
   "outputs": [
    {
     "data": {
      "text/plain": [
       "<sqlite3.Cursor at 0x2a445247340>"
      ]
     },
     "execution_count": 16,
     "metadata": {},
     "output_type": "execute_result"
    }
   ],
   "source": [
    "# Cria a tabela ESTABELECIMENTO\n",
    "cursor.execute('''CREATE TABLE ESTABELECIMENTO (\n",
    "    RES_ID smallint NOT NULL,\n",
    "    RES_NOM_ESTABELECIMENTO character varying(200),\n",
    "    RES_ENDERECO character varying(200),\n",
    "    RES_NUMERO character varying(200),\n",
    "    RES_COMPLEMENTO character varying(100),\n",
    "    RES_CEP character varying(8),\n",
    "    RES_BAIRRO character varying(60),\n",
    "    RES_CIDADE character varying(60),\n",
    "    RES_UF character varying(2),\n",
    "    RES_TELEFONE character varying(15),\n",
    "    RES_TIP_ESTABELECIMENTO smallint NOT NULL\n",
    ");''')\n",
    "\n",
    "# Cria a tabela TIPO_ESTABELECIMENTO\n",
    "cursor.execute('''CREATE TABLE TIPO_ESTABELECIMENTO (\n",
    "    RES_TIP_ESTABELECIMENTO smallint NOT NULL,\n",
    "    TIPO character varying(60)\n",
    ");''')\n",
    "\n",
    "# Insere os valores nas tabelas\n",
    "cursor.execute('''INSERT INTO ESTABELECIMENTO VALUES(1, 'Amika Coffee House', 'Rua Ana Bilhar', '1136', 'B', '60160110', 'Meireles', 'Fortaleza', 'CE', '(85)3031-0351', 1);''')\n",
    "cursor.execute('''INSERT INTO ESTABELECIMENTO VALUES(2, 'Torra Café', 'Rua Marcos Macêdo', '827', '', '60150190', 'Aldeota', 'Fortaleza', 'CE', '', 1);''')\n",
    "cursor.execute('''INSERT INTO ESTABELECIMENTO VALUES(3, 'Urbici Café', 'R. Barbosa de Freitas', '951', 'Loja 01', '60170021', 'Aldeota', 'Fortaleza', 'CE', '', 2);''')\n",
    "cursor.execute('''INSERT INTO ESTABELECIMENTO VALUES(4, 'Blend Coffee House', 'R. Sabino Pires', '', '', '60150090', 'Aldeota', 'Fortaleza', 'CE', '(85) 3121-6455', 3);''')\n",
    "\n",
    "cursor.execute('''INSERT INTO TIPO_ESTABELECIMENTO VALUES(1, 'Comercial');''')\n",
    "cursor.execute('''INSERT INTO TIPO_ESTABELECIMENTO VALUES(2, 'Privado');''')\n",
    "cursor.execute('''INSERT INTO TIPO_ESTABELECIMENTO VALUES(3, 'Empresarial');''')"
   ]
  },
  {
   "cell_type": "markdown",
   "id": "bb917c91",
   "metadata": {},
   "source": [
    "## Manipulando PostgreSQL no DataFrame"
   ]
  },
  {
   "cell_type": "markdown",
   "id": "b0d3668c",
   "metadata": {},
   "source": [
    "## Executando Consultas no DataFrame"
   ]
  },
  {
   "cell_type": "code",
   "execution_count": 17,
   "id": "ee43868b",
   "metadata": {},
   "outputs": [
    {
     "data": {
      "text/html": [
       "<div>\n",
       "<style scoped>\n",
       "    .dataframe tbody tr th:only-of-type {\n",
       "        vertical-align: middle;\n",
       "    }\n",
       "\n",
       "    .dataframe tbody tr th {\n",
       "        vertical-align: top;\n",
       "    }\n",
       "\n",
       "    .dataframe thead th {\n",
       "        text-align: right;\n",
       "    }\n",
       "</style>\n",
       "<table border=\"1\" class=\"dataframe\">\n",
       "  <thead>\n",
       "    <tr style=\"text-align: right;\">\n",
       "      <th></th>\n",
       "      <th>RES_ID</th>\n",
       "      <th>RES_NOM_ESTABELECIMENTO</th>\n",
       "      <th>RES_ENDERECO</th>\n",
       "      <th>RES_NUMERO</th>\n",
       "      <th>RES_COMPLEMENTO</th>\n",
       "      <th>RES_CEP</th>\n",
       "      <th>RES_BAIRRO</th>\n",
       "      <th>RES_CIDADE</th>\n",
       "      <th>RES_UF</th>\n",
       "      <th>RES_TELEFONE</th>\n",
       "      <th>RES_TIP_ESTABELECIMENTO</th>\n",
       "    </tr>\n",
       "  </thead>\n",
       "  <tbody>\n",
       "    <tr>\n",
       "      <th>0</th>\n",
       "      <td>1</td>\n",
       "      <td>Amika Coffee House</td>\n",
       "      <td>Rua Ana Bilhar</td>\n",
       "      <td>1136</td>\n",
       "      <td>B</td>\n",
       "      <td>60160110</td>\n",
       "      <td>Meireles</td>\n",
       "      <td>Fortaleza</td>\n",
       "      <td>CE</td>\n",
       "      <td>(85)3031-0351</td>\n",
       "      <td>1</td>\n",
       "    </tr>\n",
       "    <tr>\n",
       "      <th>1</th>\n",
       "      <td>2</td>\n",
       "      <td>Torra Café</td>\n",
       "      <td>Rua Marcos Macêdo</td>\n",
       "      <td>827</td>\n",
       "      <td></td>\n",
       "      <td>60150190</td>\n",
       "      <td>Aldeota</td>\n",
       "      <td>Fortaleza</td>\n",
       "      <td>CE</td>\n",
       "      <td></td>\n",
       "      <td>1</td>\n",
       "    </tr>\n",
       "    <tr>\n",
       "      <th>2</th>\n",
       "      <td>3</td>\n",
       "      <td>Urbici Café</td>\n",
       "      <td>R. Barbosa de Freitas</td>\n",
       "      <td>951</td>\n",
       "      <td>Loja 01</td>\n",
       "      <td>60170021</td>\n",
       "      <td>Aldeota</td>\n",
       "      <td>Fortaleza</td>\n",
       "      <td>CE</td>\n",
       "      <td></td>\n",
       "      <td>2</td>\n",
       "    </tr>\n",
       "    <tr>\n",
       "      <th>3</th>\n",
       "      <td>4</td>\n",
       "      <td>Blend Coffee House</td>\n",
       "      <td>R. Sabino Pires</td>\n",
       "      <td></td>\n",
       "      <td></td>\n",
       "      <td>60150090</td>\n",
       "      <td>Aldeota</td>\n",
       "      <td>Fortaleza</td>\n",
       "      <td>CE</td>\n",
       "      <td>(85) 3121-6455</td>\n",
       "      <td>3</td>\n",
       "    </tr>\n",
       "  </tbody>\n",
       "</table>\n",
       "</div>"
      ],
      "text/plain": [
       "   RES_ID RES_NOM_ESTABELECIMENTO           RES_ENDERECO RES_NUMERO  \\\n",
       "0       1      Amika Coffee House         Rua Ana Bilhar       1136   \n",
       "1       2              Torra Café      Rua Marcos Macêdo        827   \n",
       "2       3             Urbici Café  R. Barbosa de Freitas        951   \n",
       "3       4      Blend Coffee House        R. Sabino Pires              \n",
       "\n",
       "  RES_COMPLEMENTO   RES_CEP RES_BAIRRO RES_CIDADE RES_UF    RES_TELEFONE  \\\n",
       "0               B  60160110   Meireles  Fortaleza     CE   (85)3031-0351   \n",
       "1                  60150190    Aldeota  Fortaleza     CE                   \n",
       "2         Loja 01  60170021    Aldeota  Fortaleza     CE                   \n",
       "3                  60150090    Aldeota  Fortaleza     CE  (85) 3121-6455   \n",
       "\n",
       "   RES_TIP_ESTABELECIMENTO  \n",
       "0                        1  \n",
       "1                        1  \n",
       "2                        2  \n",
       "3                        3  "
      ]
     },
     "execution_count": 17,
     "metadata": {},
     "output_type": "execute_result"
    }
   ],
   "source": [
    "# Iremos colocar a tabela ESTABELECIMENTO dentro do DataFrame\n",
    "df = pd.read_sql('select * from ESTABELECIMENTO', con=conn)\n",
    "df"
   ]
  },
  {
   "cell_type": "code",
   "execution_count": 18,
   "id": "42e4cdde",
   "metadata": {},
   "outputs": [
    {
     "data": {
      "text/plain": [
       "Index(['RES_ID', 'RES_NOM_ESTABELECIMENTO', 'RES_ENDERECO', 'RES_NUMERO',\n",
       "       'RES_COMPLEMENTO', 'RES_CEP', 'RES_BAIRRO', 'RES_CIDADE', 'RES_UF',\n",
       "       'RES_TELEFONE', 'RES_TIP_ESTABELECIMENTO'],\n",
       "      dtype='object')"
      ]
     },
     "execution_count": 18,
     "metadata": {},
     "output_type": "execute_result"
    }
   ],
   "source": [
    "# Imprimindo as colunas presentes no DataFrame\n",
    "df.columns"
   ]
  },
  {
   "cell_type": "code",
   "execution_count": 19,
   "id": "91896710",
   "metadata": {},
   "outputs": [
    {
     "name": "stdout",
     "output_type": "stream",
     "text": [
      "<class 'pandas.core.frame.DataFrame'>\n",
      "RangeIndex: 4 entries, 0 to 3\n",
      "Data columns (total 11 columns):\n",
      " #   Column                   Non-Null Count  Dtype \n",
      "---  ------                   --------------  ----- \n",
      " 0   RES_ID                   4 non-null      int64 \n",
      " 1   RES_NOM_ESTABELECIMENTO  4 non-null      object\n",
      " 2   RES_ENDERECO             4 non-null      object\n",
      " 3   RES_NUMERO               4 non-null      object\n",
      " 4   RES_COMPLEMENTO          4 non-null      object\n",
      " 5   RES_CEP                  4 non-null      object\n",
      " 6   RES_BAIRRO               4 non-null      object\n",
      " 7   RES_CIDADE               4 non-null      object\n",
      " 8   RES_UF                   4 non-null      object\n",
      " 9   RES_TELEFONE             4 non-null      object\n",
      " 10  RES_TIP_ESTABELECIMENTO  4 non-null      int64 \n",
      "dtypes: int64(2), object(9)\n",
      "memory usage: 480.0+ bytes\n"
     ]
    }
   ],
   "source": [
    "# Checando informações gerais da tabela\n",
    "df.info()"
   ]
  },
  {
   "cell_type": "code",
   "execution_count": 20,
   "id": "5058ee60",
   "metadata": {},
   "outputs": [
    {
     "data": {
      "text/plain": [
       "(4, 11)"
      ]
     },
     "execution_count": 20,
     "metadata": {},
     "output_type": "execute_result"
    }
   ],
   "source": [
    "# Olhando a dimensionalidade do DataFrame (linhas x colunas)\n",
    "df.shape"
   ]
  },
  {
   "cell_type": "code",
   "execution_count": 21,
   "id": "2373c8c8",
   "metadata": {},
   "outputs": [
    {
     "data": {
      "text/plain": [
       "0    Meireles\n",
       "1     Aldeota\n",
       "2     Aldeota\n",
       "3     Aldeota\n",
       "Name: RES_BAIRRO, dtype: object"
      ]
     },
     "execution_count": 21,
     "metadata": {},
     "output_type": "execute_result"
    }
   ],
   "source": [
    "# Checando uma coluna específica do DataFrame\n",
    "df[\"RES_BAIRRO\"]"
   ]
  },
  {
   "cell_type": "code",
   "execution_count": 22,
   "id": "d8077738",
   "metadata": {},
   "outputs": [
    {
     "data": {
      "text/html": [
       "<div>\n",
       "<style scoped>\n",
       "    .dataframe tbody tr th:only-of-type {\n",
       "        vertical-align: middle;\n",
       "    }\n",
       "\n",
       "    .dataframe tbody tr th {\n",
       "        vertical-align: top;\n",
       "    }\n",
       "\n",
       "    .dataframe thead th {\n",
       "        text-align: right;\n",
       "    }\n",
       "</style>\n",
       "<table border=\"1\" class=\"dataframe\">\n",
       "  <thead>\n",
       "    <tr style=\"text-align: right;\">\n",
       "      <th></th>\n",
       "      <th>RES_ID</th>\n",
       "      <th>RES_NOM_ESTABELECIMENTO</th>\n",
       "      <th>RES_ENDERECO</th>\n",
       "      <th>RES_NUMERO</th>\n",
       "      <th>RES_COMPLEMENTO</th>\n",
       "      <th>RES_CEP</th>\n",
       "      <th>RES_BAIRRO</th>\n",
       "      <th>RES_CIDADE</th>\n",
       "      <th>RES_UF</th>\n",
       "      <th>RES_TELEFONE</th>\n",
       "      <th>RES_TIP_ESTABELECIMENTO</th>\n",
       "    </tr>\n",
       "  </thead>\n",
       "  <tbody>\n",
       "    <tr>\n",
       "      <th>1</th>\n",
       "      <td>2</td>\n",
       "      <td>Torra Café</td>\n",
       "      <td>Rua Marcos Macêdo</td>\n",
       "      <td>827</td>\n",
       "      <td></td>\n",
       "      <td>60150190</td>\n",
       "      <td>Aldeota</td>\n",
       "      <td>Fortaleza</td>\n",
       "      <td>CE</td>\n",
       "      <td></td>\n",
       "      <td>1</td>\n",
       "    </tr>\n",
       "    <tr>\n",
       "      <th>2</th>\n",
       "      <td>3</td>\n",
       "      <td>Urbici Café</td>\n",
       "      <td>R. Barbosa de Freitas</td>\n",
       "      <td>951</td>\n",
       "      <td>Loja 01</td>\n",
       "      <td>60170021</td>\n",
       "      <td>Aldeota</td>\n",
       "      <td>Fortaleza</td>\n",
       "      <td>CE</td>\n",
       "      <td></td>\n",
       "      <td>2</td>\n",
       "    </tr>\n",
       "    <tr>\n",
       "      <th>3</th>\n",
       "      <td>4</td>\n",
       "      <td>Blend Coffee House</td>\n",
       "      <td>R. Sabino Pires</td>\n",
       "      <td></td>\n",
       "      <td></td>\n",
       "      <td>60150090</td>\n",
       "      <td>Aldeota</td>\n",
       "      <td>Fortaleza</td>\n",
       "      <td>CE</td>\n",
       "      <td>(85) 3121-6455</td>\n",
       "      <td>3</td>\n",
       "    </tr>\n",
       "  </tbody>\n",
       "</table>\n",
       "</div>"
      ],
      "text/plain": [
       "   RES_ID RES_NOM_ESTABELECIMENTO           RES_ENDERECO RES_NUMERO  \\\n",
       "1       2              Torra Café      Rua Marcos Macêdo        827   \n",
       "2       3             Urbici Café  R. Barbosa de Freitas        951   \n",
       "3       4      Blend Coffee House        R. Sabino Pires              \n",
       "\n",
       "  RES_COMPLEMENTO   RES_CEP RES_BAIRRO RES_CIDADE RES_UF    RES_TELEFONE  \\\n",
       "1                  60150190    Aldeota  Fortaleza     CE                   \n",
       "2         Loja 01  60170021    Aldeota  Fortaleza     CE                   \n",
       "3                  60150090    Aldeota  Fortaleza     CE  (85) 3121-6455   \n",
       "\n",
       "   RES_TIP_ESTABELECIMENTO  \n",
       "1                        1  \n",
       "2                        2  \n",
       "3                        3  "
      ]
     },
     "execution_count": 22,
     "metadata": {},
     "output_type": "execute_result"
    }
   ],
   "source": [
    "# Checando uma coluna específica do DataFrame com uma visualização melhor :)\n",
    "df[df[\"RES_BAIRRO\"] == \"Aldeota\"]"
   ]
  },
  {
   "cell_type": "code",
   "execution_count": 23,
   "id": "df6ee4f9",
   "metadata": {},
   "outputs": [
    {
     "data": {
      "text/plain": [
       "array(['Meireles', 'Aldeota'], dtype=object)"
      ]
     },
     "execution_count": 23,
     "metadata": {},
     "output_type": "execute_result"
    }
   ],
   "source": [
    "# Obtendo os valores unitários de uma coluna específica\n",
    "df[\"RES_BAIRRO\"].unique()"
   ]
  },
  {
   "cell_type": "code",
   "execution_count": 24,
   "id": "7d8bf579",
   "metadata": {},
   "outputs": [
    {
     "data": {
      "text/plain": [
       "1"
      ]
     },
     "execution_count": 24,
     "metadata": {},
     "output_type": "execute_result"
    }
   ],
   "source": [
    "# Fazendo busca por valor e retornando sua quantidade\n",
    "# Usamos o index [0] para retornar apenas a quantidade de linhas em que nosso valor aparece\n",
    "df[df[\"RES_NOM_ESTABELECIMENTO\"] == \"Amika Coffee House\"].shape[0]"
   ]
  },
  {
   "cell_type": "code",
   "execution_count": 25,
   "id": "4ec7c10f",
   "metadata": {},
   "outputs": [
    {
     "data": {
      "text/html": [
       "<div>\n",
       "<style scoped>\n",
       "    .dataframe tbody tr th:only-of-type {\n",
       "        vertical-align: middle;\n",
       "    }\n",
       "\n",
       "    .dataframe tbody tr th {\n",
       "        vertical-align: top;\n",
       "    }\n",
       "\n",
       "    .dataframe thead th {\n",
       "        text-align: right;\n",
       "    }\n",
       "</style>\n",
       "<table border=\"1\" class=\"dataframe\">\n",
       "  <thead>\n",
       "    <tr style=\"text-align: right;\">\n",
       "      <th></th>\n",
       "      <th>RES_ID</th>\n",
       "      <th>RES_NOM_ESTABELECIMENTO</th>\n",
       "      <th>RES_ENDERECO</th>\n",
       "      <th>RES_NUMERO</th>\n",
       "      <th>RES_COMPLEMENTO</th>\n",
       "      <th>RES_CEP</th>\n",
       "      <th>RES_BAIRRO</th>\n",
       "      <th>RES_CIDADE</th>\n",
       "      <th>RES_UF</th>\n",
       "      <th>RES_TELEFONE</th>\n",
       "      <th>RES_TIP_ESTABELECIMENTO</th>\n",
       "    </tr>\n",
       "  </thead>\n",
       "  <tbody>\n",
       "    <tr>\n",
       "      <th>0</th>\n",
       "      <td>1</td>\n",
       "      <td>Amika Coffee House</td>\n",
       "      <td>Rua Ana Bilhar</td>\n",
       "      <td>1136</td>\n",
       "      <td>B</td>\n",
       "      <td>60160110</td>\n",
       "      <td>Meireles</td>\n",
       "      <td>Fortaleza</td>\n",
       "      <td>CE</td>\n",
       "      <td>(85)3031-0351</td>\n",
       "      <td>1</td>\n",
       "    </tr>\n",
       "    <tr>\n",
       "      <th>1</th>\n",
       "      <td>2</td>\n",
       "      <td>Torra Café</td>\n",
       "      <td>Rua Marcos Macêdo</td>\n",
       "      <td>827</td>\n",
       "      <td></td>\n",
       "      <td>60150190</td>\n",
       "      <td>Aldeota</td>\n",
       "      <td>Fortaleza</td>\n",
       "      <td>CE</td>\n",
       "      <td></td>\n",
       "      <td>1</td>\n",
       "    </tr>\n",
       "    <tr>\n",
       "      <th>2</th>\n",
       "      <td>3</td>\n",
       "      <td>Urbici Café</td>\n",
       "      <td>R. Barbosa de Freitas</td>\n",
       "      <td>951</td>\n",
       "      <td>Loja 01</td>\n",
       "      <td>60170021</td>\n",
       "      <td>Aldeota</td>\n",
       "      <td>Fortaleza</td>\n",
       "      <td>CE</td>\n",
       "      <td></td>\n",
       "      <td>2</td>\n",
       "    </tr>\n",
       "  </tbody>\n",
       "</table>\n",
       "</div>"
      ],
      "text/plain": [
       "   RES_ID RES_NOM_ESTABELECIMENTO           RES_ENDERECO RES_NUMERO  \\\n",
       "0       1      Amika Coffee House         Rua Ana Bilhar       1136   \n",
       "1       2              Torra Café      Rua Marcos Macêdo        827   \n",
       "2       3             Urbici Café  R. Barbosa de Freitas        951   \n",
       "\n",
       "  RES_COMPLEMENTO   RES_CEP RES_BAIRRO RES_CIDADE RES_UF   RES_TELEFONE  \\\n",
       "0               B  60160110   Meireles  Fortaleza     CE  (85)3031-0351   \n",
       "1                  60150190    Aldeota  Fortaleza     CE                  \n",
       "2         Loja 01  60170021    Aldeota  Fortaleza     CE                  \n",
       "\n",
       "   RES_TIP_ESTABELECIMENTO  \n",
       "0                        1  \n",
       "1                        1  \n",
       "2                        2  "
      ]
     },
     "execution_count": 25,
     "metadata": {},
     "output_type": "execute_result"
    }
   ],
   "source": [
    "# checando as n primeiras instâncias do DataFrame\n",
    "n = 3\n",
    "df.head(n)"
   ]
  },
  {
   "cell_type": "code",
   "execution_count": 26,
   "id": "7f37f122",
   "metadata": {},
   "outputs": [
    {
     "data": {
      "text/html": [
       "<div>\n",
       "<style scoped>\n",
       "    .dataframe tbody tr th:only-of-type {\n",
       "        vertical-align: middle;\n",
       "    }\n",
       "\n",
       "    .dataframe tbody tr th {\n",
       "        vertical-align: top;\n",
       "    }\n",
       "\n",
       "    .dataframe thead th {\n",
       "        text-align: right;\n",
       "    }\n",
       "</style>\n",
       "<table border=\"1\" class=\"dataframe\">\n",
       "  <thead>\n",
       "    <tr style=\"text-align: right;\">\n",
       "      <th></th>\n",
       "      <th>RES_ID</th>\n",
       "      <th>RES_NOM_ESTABELECIMENTO</th>\n",
       "      <th>RES_ENDERECO</th>\n",
       "      <th>RES_NUMERO</th>\n",
       "      <th>RES_COMPLEMENTO</th>\n",
       "      <th>RES_CEP</th>\n",
       "      <th>RES_BAIRRO</th>\n",
       "      <th>RES_CIDADE</th>\n",
       "      <th>RES_UF</th>\n",
       "      <th>RES_TELEFONE</th>\n",
       "      <th>RES_TIP_ESTABELECIMENTO</th>\n",
       "    </tr>\n",
       "  </thead>\n",
       "  <tbody>\n",
       "    <tr>\n",
       "      <th>2</th>\n",
       "      <td>3</td>\n",
       "      <td>Urbici Café</td>\n",
       "      <td>R. Barbosa de Freitas</td>\n",
       "      <td>951</td>\n",
       "      <td>Loja 01</td>\n",
       "      <td>60170021</td>\n",
       "      <td>Aldeota</td>\n",
       "      <td>Fortaleza</td>\n",
       "      <td>CE</td>\n",
       "      <td></td>\n",
       "      <td>2</td>\n",
       "    </tr>\n",
       "    <tr>\n",
       "      <th>3</th>\n",
       "      <td>4</td>\n",
       "      <td>Blend Coffee House</td>\n",
       "      <td>R. Sabino Pires</td>\n",
       "      <td></td>\n",
       "      <td></td>\n",
       "      <td>60150090</td>\n",
       "      <td>Aldeota</td>\n",
       "      <td>Fortaleza</td>\n",
       "      <td>CE</td>\n",
       "      <td>(85) 3121-6455</td>\n",
       "      <td>3</td>\n",
       "    </tr>\n",
       "  </tbody>\n",
       "</table>\n",
       "</div>"
      ],
      "text/plain": [
       "   RES_ID RES_NOM_ESTABELECIMENTO           RES_ENDERECO RES_NUMERO  \\\n",
       "2       3             Urbici Café  R. Barbosa de Freitas        951   \n",
       "3       4      Blend Coffee House        R. Sabino Pires              \n",
       "\n",
       "  RES_COMPLEMENTO   RES_CEP RES_BAIRRO RES_CIDADE RES_UF    RES_TELEFONE  \\\n",
       "2         Loja 01  60170021    Aldeota  Fortaleza     CE                   \n",
       "3                  60150090    Aldeota  Fortaleza     CE  (85) 3121-6455   \n",
       "\n",
       "   RES_TIP_ESTABELECIMENTO  \n",
       "2                        2  \n",
       "3                        3  "
      ]
     },
     "execution_count": 26,
     "metadata": {},
     "output_type": "execute_result"
    }
   ],
   "source": [
    "# checando as n últimas instâncias do DataFrame\n",
    "n = 2\n",
    "df.tail(n)"
   ]
  },
  {
   "cell_type": "code",
   "execution_count": 27,
   "id": "fac774ba",
   "metadata": {},
   "outputs": [
    {
     "data": {
      "text/html": [
       "<div>\n",
       "<style scoped>\n",
       "    .dataframe tbody tr th:only-of-type {\n",
       "        vertical-align: middle;\n",
       "    }\n",
       "\n",
       "    .dataframe tbody tr th {\n",
       "        vertical-align: top;\n",
       "    }\n",
       "\n",
       "    .dataframe thead th {\n",
       "        text-align: right;\n",
       "    }\n",
       "</style>\n",
       "<table border=\"1\" class=\"dataframe\">\n",
       "  <thead>\n",
       "    <tr style=\"text-align: right;\">\n",
       "      <th></th>\n",
       "      <th>RES_ID</th>\n",
       "      <th>RES_NOM_ESTABELECIMENTO</th>\n",
       "      <th>RES_ENDERECO</th>\n",
       "      <th>RES_NUMERO</th>\n",
       "      <th>RES_COMPLEMENTO</th>\n",
       "      <th>RES_CEP</th>\n",
       "      <th>RES_BAIRRO</th>\n",
       "      <th>RES_CIDADE</th>\n",
       "      <th>RES_UF</th>\n",
       "      <th>RES_TELEFONE</th>\n",
       "      <th>RES_TIP_ESTABELECIMENTO</th>\n",
       "    </tr>\n",
       "  </thead>\n",
       "  <tbody>\n",
       "    <tr>\n",
       "      <th>1</th>\n",
       "      <td>2</td>\n",
       "      <td>Torra Café</td>\n",
       "      <td>Rua Marcos Macêdo</td>\n",
       "      <td>827</td>\n",
       "      <td></td>\n",
       "      <td>60150190</td>\n",
       "      <td>Aldeota</td>\n",
       "      <td>Fortaleza</td>\n",
       "      <td>CE</td>\n",
       "      <td></td>\n",
       "      <td>1</td>\n",
       "    </tr>\n",
       "    <tr>\n",
       "      <th>2</th>\n",
       "      <td>3</td>\n",
       "      <td>Urbici Café</td>\n",
       "      <td>R. Barbosa de Freitas</td>\n",
       "      <td>951</td>\n",
       "      <td>Loja 01</td>\n",
       "      <td>60170021</td>\n",
       "      <td>Aldeota</td>\n",
       "      <td>Fortaleza</td>\n",
       "      <td>CE</td>\n",
       "      <td></td>\n",
       "      <td>2</td>\n",
       "    </tr>\n",
       "  </tbody>\n",
       "</table>\n",
       "</div>"
      ],
      "text/plain": [
       "   RES_ID RES_NOM_ESTABELECIMENTO           RES_ENDERECO RES_NUMERO  \\\n",
       "1       2              Torra Café      Rua Marcos Macêdo        827   \n",
       "2       3             Urbici Café  R. Barbosa de Freitas        951   \n",
       "\n",
       "  RES_COMPLEMENTO   RES_CEP RES_BAIRRO RES_CIDADE RES_UF RES_TELEFONE  \\\n",
       "1                  60150190    Aldeota  Fortaleza     CE                \n",
       "2         Loja 01  60170021    Aldeota  Fortaleza     CE                \n",
       "\n",
       "   RES_TIP_ESTABELECIMENTO  \n",
       "1                        1  \n",
       "2                        2  "
      ]
     },
     "execution_count": 27,
     "metadata": {},
     "output_type": "execute_result"
    }
   ],
   "source": [
    "# Efetuando busca condicional\n",
    "condition = (df[\"RES_BAIRRO\"] == \"Aldeota\") & (df[\"RES_NUMERO\"] != \"\")\n",
    "df[condition]"
   ]
  },
  {
   "cell_type": "code",
   "execution_count": 28,
   "id": "ed4305c8",
   "metadata": {},
   "outputs": [
    {
     "data": {
      "text/html": [
       "<div>\n",
       "<style scoped>\n",
       "    .dataframe tbody tr th:only-of-type {\n",
       "        vertical-align: middle;\n",
       "    }\n",
       "\n",
       "    .dataframe tbody tr th {\n",
       "        vertical-align: top;\n",
       "    }\n",
       "\n",
       "    .dataframe thead th {\n",
       "        text-align: right;\n",
       "    }\n",
       "</style>\n",
       "<table border=\"1\" class=\"dataframe\">\n",
       "  <thead>\n",
       "    <tr style=\"text-align: right;\">\n",
       "      <th></th>\n",
       "      <th>RES_NOM_ESTABELECIMENTO</th>\n",
       "      <th>RES_ENDERECO</th>\n",
       "      <th>RES_NUMERO</th>\n",
       "    </tr>\n",
       "  </thead>\n",
       "  <tbody>\n",
       "    <tr>\n",
       "      <th>1</th>\n",
       "      <td>Torra Café</td>\n",
       "      <td>Rua Marcos Macêdo</td>\n",
       "      <td>827</td>\n",
       "    </tr>\n",
       "    <tr>\n",
       "      <th>2</th>\n",
       "      <td>Urbici Café</td>\n",
       "      <td>R. Barbosa de Freitas</td>\n",
       "      <td>951</td>\n",
       "    </tr>\n",
       "  </tbody>\n",
       "</table>\n",
       "</div>"
      ],
      "text/plain": [
       "  RES_NOM_ESTABELECIMENTO           RES_ENDERECO RES_NUMERO\n",
       "1              Torra Café      Rua Marcos Macêdo        827\n",
       "2             Urbici Café  R. Barbosa de Freitas        951"
      ]
     },
     "execution_count": 28,
     "metadata": {},
     "output_type": "execute_result"
    }
   ],
   "source": [
    "# Visualizando apenas as colunas de interesse da busca anterior\n",
    "columns_of_interest = [\"RES_NOM_ESTABELECIMENTO\", \"RES_ENDERECO\", \"RES_NUMERO\"]\n",
    "df[condition][columns_of_interest]"
   ]
  },
  {
   "cell_type": "code",
   "execution_count": 29,
   "id": "cc53e7d7",
   "metadata": {},
   "outputs": [
    {
     "data": {
      "text/plain": [
       "(2, 3)"
      ]
     },
     "execution_count": 29,
     "metadata": {},
     "output_type": "execute_result"
    }
   ],
   "source": [
    "# Checando a dimensionalidade da consulta\n",
    "# Caso deseje retornar apenas a quantidade de linhas, inserir [0] ao final de shape\n",
    "df[condition][columns_of_interest].shape"
   ]
  },
  {
   "cell_type": "markdown",
   "id": "878a3560",
   "metadata": {},
   "source": [
    "## Funções Agregadas"
   ]
  },
  {
   "cell_type": "code",
   "execution_count": 30,
   "id": "7f8ff0fc",
   "metadata": {},
   "outputs": [
    {
     "data": {
      "text/plain": [
       "1.118033988749895"
      ]
     },
     "execution_count": 30,
     "metadata": {},
     "output_type": "execute_result"
    }
   ],
   "source": [
    "# obter desvio padrão de uma coluna\n",
    "np.std(df[\"RES_ID\"])"
   ]
  },
  {
   "cell_type": "code",
   "execution_count": 31,
   "id": "da0528df",
   "metadata": {},
   "outputs": [
    {
     "data": {
      "text/plain": [
       "2.5"
      ]
     },
     "execution_count": 31,
     "metadata": {},
     "output_type": "execute_result"
    }
   ],
   "source": [
    "# obter média de uma coluna\n",
    "np.mean(df[\"RES_ID\"])"
   ]
  },
  {
   "cell_type": "code",
   "execution_count": 32,
   "id": "8ec56413",
   "metadata": {},
   "outputs": [
    {
     "data": {
      "text/plain": [
       "2.5"
      ]
     },
     "execution_count": 32,
     "metadata": {},
     "output_type": "execute_result"
    }
   ],
   "source": [
    "# obter mediana de uma coluna\n",
    "np.median(df[\"RES_ID\"])"
   ]
  },
  {
   "cell_type": "code",
   "execution_count": 33,
   "id": "6a120aaa",
   "metadata": {},
   "outputs": [
    {
     "data": {
      "text/plain": [
       "4"
      ]
     },
     "execution_count": 33,
     "metadata": {},
     "output_type": "execute_result"
    }
   ],
   "source": [
    "# obter o máximo de uma coluna\n",
    "np.max(df[\"RES_ID\"])"
   ]
  },
  {
   "cell_type": "code",
   "execution_count": 34,
   "id": "bff65744",
   "metadata": {},
   "outputs": [
    {
     "data": {
      "text/plain": [
       "1"
      ]
     },
     "execution_count": 34,
     "metadata": {},
     "output_type": "execute_result"
    }
   ],
   "source": [
    "# obter o mínimo de uma coluna\n",
    "np.min(df[\"RES_ID\"])"
   ]
  },
  {
   "cell_type": "markdown",
   "id": "850f1d98",
   "metadata": {},
   "source": [
    "## Junção de Tabelas"
   ]
  },
  {
   "cell_type": "code",
   "execution_count": 35,
   "id": "4f794441",
   "metadata": {},
   "outputs": [
    {
     "data": {
      "text/html": [
       "<div>\n",
       "<style scoped>\n",
       "    .dataframe tbody tr th:only-of-type {\n",
       "        vertical-align: middle;\n",
       "    }\n",
       "\n",
       "    .dataframe tbody tr th {\n",
       "        vertical-align: top;\n",
       "    }\n",
       "\n",
       "    .dataframe thead th {\n",
       "        text-align: right;\n",
       "    }\n",
       "</style>\n",
       "<table border=\"1\" class=\"dataframe\">\n",
       "  <thead>\n",
       "    <tr style=\"text-align: right;\">\n",
       "      <th></th>\n",
       "      <th>RES_TIP_ESTABELECIMENTO</th>\n",
       "      <th>TIPO</th>\n",
       "    </tr>\n",
       "  </thead>\n",
       "  <tbody>\n",
       "    <tr>\n",
       "      <th>0</th>\n",
       "      <td>1</td>\n",
       "      <td>Comercial</td>\n",
       "    </tr>\n",
       "    <tr>\n",
       "      <th>1</th>\n",
       "      <td>2</td>\n",
       "      <td>Privado</td>\n",
       "    </tr>\n",
       "    <tr>\n",
       "      <th>2</th>\n",
       "      <td>3</td>\n",
       "      <td>Empresarial</td>\n",
       "    </tr>\n",
       "  </tbody>\n",
       "</table>\n",
       "</div>"
      ],
      "text/plain": [
       "   RES_TIP_ESTABELECIMENTO         TIPO\n",
       "0                        1    Comercial\n",
       "1                        2      Privado\n",
       "2                        3  Empresarial"
      ]
     },
     "execution_count": 35,
     "metadata": {},
     "output_type": "execute_result"
    }
   ],
   "source": [
    "# Iremos colocar a tabela TIPO_ESTABELECIMENTO dentro do DataFrame\n",
    "df2 = pd.read_sql('select * from TIPO_ESTABELECIMENTO', con=conn)\n",
    "df2"
   ]
  },
  {
   "cell_type": "code",
   "execution_count": 36,
   "id": "958d727b",
   "metadata": {},
   "outputs": [
    {
     "data": {
      "text/plain": [
       "(3, 2)"
      ]
     },
     "execution_count": 36,
     "metadata": {},
     "output_type": "execute_result"
    }
   ],
   "source": [
    "df2.shape"
   ]
  },
  {
   "cell_type": "code",
   "execution_count": 37,
   "id": "57c2a7b7",
   "metadata": {},
   "outputs": [],
   "source": [
    "# Faremos o JOIN das duas tabelas através da coluna \"RES_TIP_ESTABELECIMENTO\" e armazenaremos o resultado em um novo DF\n",
    "df3 = pd.merge(df, df2, on = \"RES_TIP_ESTABELECIMENTO\")"
   ]
  },
  {
   "cell_type": "code",
   "execution_count": 38,
   "id": "3bf4d8eb",
   "metadata": {},
   "outputs": [
    {
     "data": {
      "text/plain": [
       "(4, 12)"
      ]
     },
     "execution_count": 38,
     "metadata": {},
     "output_type": "execute_result"
    }
   ],
   "source": [
    "df3.shape"
   ]
  },
  {
   "cell_type": "markdown",
   "id": "387e182d",
   "metadata": {},
   "source": [
    "## Cursor"
   ]
  },
  {
   "cell_type": "code",
   "execution_count": 39,
   "id": "f94f2569",
   "metadata": {},
   "outputs": [],
   "source": [
    "# Cursor ja foi criado no inicio desse Desafio\n",
    "cursor.execute(\"select * from ESTABELECIMENTO\") # Realiza consulta\n",
    "rows = cursor.fetchall() # Lê o resultado"
   ]
  },
  {
   "cell_type": "code",
   "execution_count": 40,
   "id": "3274bc6c",
   "metadata": {},
   "outputs": [
    {
     "name": "stdout",
     "output_type": "stream",
     "text": [
      "[(1, 'Amika Coffee House', 'Rua Ana Bilhar', '1136', 'B', '60160110', 'Meireles', 'Fortaleza', 'CE', '(85)3031-0351', 1), (2, 'Torra Café', 'Rua Marcos Macêdo', '827', '', '60150190', 'Aldeota', 'Fortaleza', 'CE', '', 1), (3, 'Urbici Café', 'R. Barbosa de Freitas', '951', 'Loja 01', '60170021', 'Aldeota', 'Fortaleza', 'CE', '', 2), (4, 'Blend Coffee House', 'R. Sabino Pires', '', '', '60150090', 'Aldeota', 'Fortaleza', 'CE', '(85) 3121-6455', 3)]\n"
     ]
    }
   ],
   "source": [
    "print(rows)"
   ]
  },
  {
   "cell_type": "code",
   "execution_count": 41,
   "id": "b416cc1f",
   "metadata": {},
   "outputs": [
    {
     "data": {
      "text/plain": [
       "<sqlite3.Cursor at 0x2a445247340>"
      ]
     },
     "execution_count": 41,
     "metadata": {},
     "output_type": "execute_result"
    }
   ],
   "source": [
    "# Vamos inserir uma nova instância na tabela ESTABELECIMENTO\n",
    "cursor.execute(\"INSERT INTO estabelecimento VALUES(5,'Ânimo Café', 'Av Pontes Vieira', '417', '', '60013523', 'São João do Tauape', 'Fortaleza', 'Ce', '',3 )\")"
   ]
  },
  {
   "cell_type": "code",
   "execution_count": 42,
   "id": "0e301dc6",
   "metadata": {},
   "outputs": [
    {
     "data": {
      "text/html": [
       "<div>\n",
       "<style scoped>\n",
       "    .dataframe tbody tr th:only-of-type {\n",
       "        vertical-align: middle;\n",
       "    }\n",
       "\n",
       "    .dataframe tbody tr th {\n",
       "        vertical-align: top;\n",
       "    }\n",
       "\n",
       "    .dataframe thead th {\n",
       "        text-align: right;\n",
       "    }\n",
       "</style>\n",
       "<table border=\"1\" class=\"dataframe\">\n",
       "  <thead>\n",
       "    <tr style=\"text-align: right;\">\n",
       "      <th></th>\n",
       "      <th>RES_ID</th>\n",
       "      <th>RES_NOM_ESTABELECIMENTO</th>\n",
       "      <th>RES_ENDERECO</th>\n",
       "      <th>RES_NUMERO</th>\n",
       "      <th>RES_COMPLEMENTO</th>\n",
       "      <th>RES_CEP</th>\n",
       "      <th>RES_BAIRRO</th>\n",
       "      <th>RES_CIDADE</th>\n",
       "      <th>RES_UF</th>\n",
       "      <th>RES_TELEFONE</th>\n",
       "      <th>RES_TIP_ESTABELECIMENTO</th>\n",
       "    </tr>\n",
       "  </thead>\n",
       "  <tbody>\n",
       "    <tr>\n",
       "      <th>0</th>\n",
       "      <td>1</td>\n",
       "      <td>Amika Coffee House</td>\n",
       "      <td>Rua Ana Bilhar</td>\n",
       "      <td>1136</td>\n",
       "      <td>B</td>\n",
       "      <td>60160110</td>\n",
       "      <td>Meireles</td>\n",
       "      <td>Fortaleza</td>\n",
       "      <td>CE</td>\n",
       "      <td>(85)3031-0351</td>\n",
       "      <td>1</td>\n",
       "    </tr>\n",
       "    <tr>\n",
       "      <th>1</th>\n",
       "      <td>2</td>\n",
       "      <td>Torra Café</td>\n",
       "      <td>Rua Marcos Macêdo</td>\n",
       "      <td>827</td>\n",
       "      <td></td>\n",
       "      <td>60150190</td>\n",
       "      <td>Aldeota</td>\n",
       "      <td>Fortaleza</td>\n",
       "      <td>CE</td>\n",
       "      <td></td>\n",
       "      <td>1</td>\n",
       "    </tr>\n",
       "    <tr>\n",
       "      <th>2</th>\n",
       "      <td>3</td>\n",
       "      <td>Urbici Café</td>\n",
       "      <td>R. Barbosa de Freitas</td>\n",
       "      <td>951</td>\n",
       "      <td>Loja 01</td>\n",
       "      <td>60170021</td>\n",
       "      <td>Aldeota</td>\n",
       "      <td>Fortaleza</td>\n",
       "      <td>CE</td>\n",
       "      <td></td>\n",
       "      <td>2</td>\n",
       "    </tr>\n",
       "    <tr>\n",
       "      <th>3</th>\n",
       "      <td>4</td>\n",
       "      <td>Blend Coffee House</td>\n",
       "      <td>R. Sabino Pires</td>\n",
       "      <td></td>\n",
       "      <td></td>\n",
       "      <td>60150090</td>\n",
       "      <td>Aldeota</td>\n",
       "      <td>Fortaleza</td>\n",
       "      <td>CE</td>\n",
       "      <td>(85) 3121-6455</td>\n",
       "      <td>3</td>\n",
       "    </tr>\n",
       "    <tr>\n",
       "      <th>4</th>\n",
       "      <td>5</td>\n",
       "      <td>Ânimo Café</td>\n",
       "      <td>Av Pontes Vieira</td>\n",
       "      <td>417</td>\n",
       "      <td></td>\n",
       "      <td>60013523</td>\n",
       "      <td>São João do Tauape</td>\n",
       "      <td>Fortaleza</td>\n",
       "      <td>Ce</td>\n",
       "      <td></td>\n",
       "      <td>3</td>\n",
       "    </tr>\n",
       "  </tbody>\n",
       "</table>\n",
       "</div>"
      ],
      "text/plain": [
       "   RES_ID RES_NOM_ESTABELECIMENTO           RES_ENDERECO RES_NUMERO  \\\n",
       "0       1      Amika Coffee House         Rua Ana Bilhar       1136   \n",
       "1       2              Torra Café      Rua Marcos Macêdo        827   \n",
       "2       3             Urbici Café  R. Barbosa de Freitas        951   \n",
       "3       4      Blend Coffee House        R. Sabino Pires              \n",
       "4       5              Ânimo Café       Av Pontes Vieira        417   \n",
       "\n",
       "  RES_COMPLEMENTO   RES_CEP          RES_BAIRRO RES_CIDADE RES_UF  \\\n",
       "0               B  60160110            Meireles  Fortaleza     CE   \n",
       "1                  60150190             Aldeota  Fortaleza     CE   \n",
       "2         Loja 01  60170021             Aldeota  Fortaleza     CE   \n",
       "3                  60150090             Aldeota  Fortaleza     CE   \n",
       "4                  60013523  São João do Tauape  Fortaleza     Ce   \n",
       "\n",
       "     RES_TELEFONE  RES_TIP_ESTABELECIMENTO  \n",
       "0   (85)3031-0351                        1  \n",
       "1                                        1  \n",
       "2                                        2  \n",
       "3  (85) 3121-6455                        3  \n",
       "4                                        3  "
      ]
     },
     "execution_count": 42,
     "metadata": {},
     "output_type": "execute_result"
    }
   ],
   "source": [
    "# Verificando inserção\n",
    "pd.read_sql('select * from estabelecimento', con=conn)"
   ]
  },
  {
   "cell_type": "code",
   "execution_count": 43,
   "id": "e75e9cfe",
   "metadata": {},
   "outputs": [
    {
     "data": {
      "text/plain": [
       "<sqlite3.Cursor at 0x2a445247340>"
      ]
     },
     "execution_count": 43,
     "metadata": {},
     "output_type": "execute_result"
    }
   ],
   "source": [
    "# Removendo instância\n",
    "cursor.execute(\"DELETE FROM estabelecimento WHERE RES_NOM_ESTABELECIMENTO = 'Ânimo Café'\")"
   ]
  },
  {
   "cell_type": "code",
   "execution_count": 44,
   "id": "a3b72378",
   "metadata": {},
   "outputs": [
    {
     "data": {
      "text/html": [
       "<div>\n",
       "<style scoped>\n",
       "    .dataframe tbody tr th:only-of-type {\n",
       "        vertical-align: middle;\n",
       "    }\n",
       "\n",
       "    .dataframe tbody tr th {\n",
       "        vertical-align: top;\n",
       "    }\n",
       "\n",
       "    .dataframe thead th {\n",
       "        text-align: right;\n",
       "    }\n",
       "</style>\n",
       "<table border=\"1\" class=\"dataframe\">\n",
       "  <thead>\n",
       "    <tr style=\"text-align: right;\">\n",
       "      <th></th>\n",
       "      <th>RES_ID</th>\n",
       "      <th>RES_NOM_ESTABELECIMENTO</th>\n",
       "      <th>RES_ENDERECO</th>\n",
       "      <th>RES_NUMERO</th>\n",
       "      <th>RES_COMPLEMENTO</th>\n",
       "      <th>RES_CEP</th>\n",
       "      <th>RES_BAIRRO</th>\n",
       "      <th>RES_CIDADE</th>\n",
       "      <th>RES_UF</th>\n",
       "      <th>RES_TELEFONE</th>\n",
       "      <th>RES_TIP_ESTABELECIMENTO</th>\n",
       "    </tr>\n",
       "  </thead>\n",
       "  <tbody>\n",
       "    <tr>\n",
       "      <th>0</th>\n",
       "      <td>1</td>\n",
       "      <td>Amika Coffee House</td>\n",
       "      <td>Rua Ana Bilhar</td>\n",
       "      <td>1136</td>\n",
       "      <td>B</td>\n",
       "      <td>60160110</td>\n",
       "      <td>Meireles</td>\n",
       "      <td>Fortaleza</td>\n",
       "      <td>CE</td>\n",
       "      <td>(85)3031-0351</td>\n",
       "      <td>1</td>\n",
       "    </tr>\n",
       "    <tr>\n",
       "      <th>1</th>\n",
       "      <td>2</td>\n",
       "      <td>Torra Café</td>\n",
       "      <td>Rua Marcos Macêdo</td>\n",
       "      <td>827</td>\n",
       "      <td></td>\n",
       "      <td>60150190</td>\n",
       "      <td>Aldeota</td>\n",
       "      <td>Fortaleza</td>\n",
       "      <td>CE</td>\n",
       "      <td></td>\n",
       "      <td>1</td>\n",
       "    </tr>\n",
       "    <tr>\n",
       "      <th>2</th>\n",
       "      <td>3</td>\n",
       "      <td>Urbici Café</td>\n",
       "      <td>R. Barbosa de Freitas</td>\n",
       "      <td>951</td>\n",
       "      <td>Loja 01</td>\n",
       "      <td>60170021</td>\n",
       "      <td>Aldeota</td>\n",
       "      <td>Fortaleza</td>\n",
       "      <td>CE</td>\n",
       "      <td></td>\n",
       "      <td>2</td>\n",
       "    </tr>\n",
       "    <tr>\n",
       "      <th>3</th>\n",
       "      <td>4</td>\n",
       "      <td>Blend Coffee House</td>\n",
       "      <td>R. Sabino Pires</td>\n",
       "      <td></td>\n",
       "      <td></td>\n",
       "      <td>60150090</td>\n",
       "      <td>Aldeota</td>\n",
       "      <td>Fortaleza</td>\n",
       "      <td>CE</td>\n",
       "      <td>(85) 3121-6455</td>\n",
       "      <td>3</td>\n",
       "    </tr>\n",
       "  </tbody>\n",
       "</table>\n",
       "</div>"
      ],
      "text/plain": [
       "   RES_ID RES_NOM_ESTABELECIMENTO           RES_ENDERECO RES_NUMERO  \\\n",
       "0       1      Amika Coffee House         Rua Ana Bilhar       1136   \n",
       "1       2              Torra Café      Rua Marcos Macêdo        827   \n",
       "2       3             Urbici Café  R. Barbosa de Freitas        951   \n",
       "3       4      Blend Coffee House        R. Sabino Pires              \n",
       "\n",
       "  RES_COMPLEMENTO   RES_CEP RES_BAIRRO RES_CIDADE RES_UF    RES_TELEFONE  \\\n",
       "0               B  60160110   Meireles  Fortaleza     CE   (85)3031-0351   \n",
       "1                  60150190    Aldeota  Fortaleza     CE                   \n",
       "2         Loja 01  60170021    Aldeota  Fortaleza     CE                   \n",
       "3                  60150090    Aldeota  Fortaleza     CE  (85) 3121-6455   \n",
       "\n",
       "   RES_TIP_ESTABELECIMENTO  \n",
       "0                        1  \n",
       "1                        1  \n",
       "2                        2  \n",
       "3                        3  "
      ]
     },
     "execution_count": 44,
     "metadata": {},
     "output_type": "execute_result"
    }
   ],
   "source": [
    "# Verificando remoção\n",
    "pd.read_sql('select * from estabelecimento', con=conn)"
   ]
  },
  {
   "cell_type": "code",
   "execution_count": 45,
   "id": "78eeb09b",
   "metadata": {},
   "outputs": [],
   "source": [
    "cursor.close()"
   ]
  },
  {
   "cell_type": "code",
   "execution_count": 46,
   "id": "af6917fb",
   "metadata": {},
   "outputs": [],
   "source": [
    "conn.close()"
   ]
  }
 ],
 "metadata": {
  "kernelspec": {
   "display_name": "Python 3 (ipykernel)",
   "language": "python",
   "name": "python3"
  },
  "language_info": {
   "codemirror_mode": {
    "name": "ipython",
    "version": 3
   },
   "file_extension": ".py",
   "mimetype": "text/x-python",
   "name": "python",
   "nbconvert_exporter": "python",
   "pygments_lexer": "ipython3",
   "version": "3.9.7"
  }
 },
 "nbformat": 4,
 "nbformat_minor": 5
}
